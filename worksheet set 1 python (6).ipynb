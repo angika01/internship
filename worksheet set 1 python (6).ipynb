{
 "cells": [
  {
   "cell_type": "code",
   "execution_count": 4,
   "id": "aabda61f",
   "metadata": {},
   "outputs": [
    {
     "name": "stdout",
     "output_type": "stream",
     "text": [
      "enter the number: 5\n",
      "the factorial is 5\n",
      "the factorial is 20\n",
      "the factorial is 60\n",
      "the factorial is 120\n",
      "the factorial is 120\n"
     ]
    }
   ],
   "source": [
    "fact = 1\n",
    "num = int (input(\"enter the number: \"))\n",
    "while num > 0:\n",
    "    fact = fact* num\n",
    "    num = num -1\n",
    "    print(\"the factorial\", \"is\", fact)"
   ]
  },
  {
   "cell_type": "code",
   "execution_count": 6,
   "id": "5b69be7c",
   "metadata": {},
   "outputs": [
    {
     "name": "stdout",
     "output_type": "stream",
     "text": [
      "enter the number: 25\n",
      "number is composite\n"
     ]
    }
   ],
   "source": [
    "num = int (input(\"enter the number: \"))\n",
    "flag = 0\n",
    "for i in range(2,num):\n",
    "    if (num%i== 0):\n",
    "        flag = 1\n",
    "        break\n",
    "        \n",
    "if (flag == 0):\n",
    "    print(\"number is prime\")\n",
    "else:\n",
    "    print(\"number is composite\")\n",
    "    "
   ]
  },
  {
   "cell_type": "code",
   "execution_count": 8,
   "id": "64225fab",
   "metadata": {},
   "outputs": [
    {
     "name": "stdout",
     "output_type": "stream",
     "text": [
      "enter the number; 1441\n",
      "the number 1441 is pelindrome\n"
     ]
    }
   ],
   "source": [
    "num = int(input(\"enter the number; \"))\n",
    "org = num\n",
    "rev = 0\n",
    "\n",
    "while num > 0:\n",
    "    rem = num % 10\n",
    "    rev = rev * 10 + rem\n",
    "    num = num // 10\n",
    "if rev == org:\n",
    "    print (\"the number\", org, \"is pelindrome\")\n",
    "else:\n",
    "    print(\"the number\", org, \"is not a pelindrome\")"
   ]
  },
  {
   "cell_type": "code",
   "execution_count": null,
   "id": "094e50d1",
   "metadata": {},
   "outputs": [
    {
     "name": "stdout",
     "output_type": "stream",
     "text": [
      "enter the length of two shorter sides: \n",
      "side a is: 3\n"
     ]
    }
   ],
   "source": [
    "print(\"enter the length of two shorter sides: \")\n",
    "a=float(input(\"side a is: \"))\n",
    "b=float(input(\"side b is: \"))\n",
    "\n",
    "h= sqrt(a**a +b**b)\n",
    "print(\"the hypotenuse side is \", h)"
   ]
  },
  {
   "cell_type": "code",
   "execution_count": 25,
   "id": "ef649584",
   "metadata": {},
   "outputs": [
    {
     "name": "stdout",
     "output_type": "stream",
     "text": [
      "enter the string  malyalam\n",
      "{'m': 2, 'a': 3, 'l': 2, 'y': 1}\n"
     ]
    }
   ],
   "source": [
    "str1= input (\"enter the string  \")\n",
    "d1 = dict()\n",
    "for c in str1:\n",
    "    if c in d1:\n",
    "        d1[c] = d1[c] + 1\n",
    "    else:\n",
    "        d1[c] = 1\n",
    "print(d1)"
   ]
  },
  {
   "cell_type": "code",
   "execution_count": null,
   "id": "60d55d41",
   "metadata": {},
   "outputs": [],
   "source": []
  }
 ],
 "metadata": {
  "kernelspec": {
   "display_name": "Python 3",
   "language": "python",
   "name": "python3"
  },
  "language_info": {
   "codemirror_mode": {
    "name": "ipython",
    "version": 3
   },
   "file_extension": ".py",
   "mimetype": "text/x-python",
   "name": "python",
   "nbconvert_exporter": "python",
   "pygments_lexer": "ipython3",
   "version": "3.8.8"
  }
 },
 "nbformat": 4,
 "nbformat_minor": 5
}
